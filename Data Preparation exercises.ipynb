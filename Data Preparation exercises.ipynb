{
 "cells": [
  {
   "cell_type": "code",
   "execution_count": 1,
   "id": "093098c6",
   "metadata": {},
   "outputs": [],
   "source": [
    "from cgi import test\n",
    "from lib2to3.pgen2.pgen import DFAState\n",
    "from lib2to3.refactor import get_all_fix_names\n",
    "import numpy as np\n",
    "import seaborn as sns\n",
    "import scipy.stats as stats\n",
    "import pandas as pd\n",
    "import matplotlib.pyplot as plt\n",
    "from pydataset import data\n",
    "import scipy\n",
    "import os\n",
    "from sklearn.model_selection import train_test_split\n",
    "from sklearn.impute import SimpleImputer\n",
    "import warnings\n",
    "warnings.filterwarnings('ignore')\n",
    "import acquire"
   ]
  },
  {
   "cell_type": "markdown",
   "id": "ca98f113",
   "metadata": {},
   "source": [
    "# Exercises\n",
    "The end result of this exercise should be a file named prepare.py.\n",
    "\n",
    "Using your store items data:\n",
    "\n",
    "1) Convert date column to datetime format.\n",
    "\n",
    "2) Plot the distribution of sale_amount and item_price.\n",
    "\n",
    "3) Set the index to be the datetime variable.\n",
    "\n",
    "4) Add a 'month' and 'day of week' column to your dataframe.\n",
    "\n",
    "5) Add a column to your dataframe, sales_total, which is a derived from sale_amount (total items) and item_price.\n",
    "\n",
    "6) Make sure all the work that you have done above is reproducible. That is, you should put the code above into separate functions and be able to re-run the functions and get the same results.\n"
   ]
  },
  {
   "cell_type": "code",
   "execution_count": 2,
   "id": "f553670d",
   "metadata": {},
   "outputs": [],
   "source": [
    "df = acquire.HEB_data()"
   ]
  },
  {
   "cell_type": "markdown",
   "id": "b329f478",
   "metadata": {},
   "source": [
    "***"
   ]
  },
  {
   "cell_type": "markdown",
   "id": "ac9c310c",
   "metadata": {},
   "source": [
    "### 1) Convert date column to datetime format."
   ]
  },
  {
   "cell_type": "code",
   "execution_count": 4,
   "id": "a8a4be60",
   "metadata": {},
   "outputs": [],
   "source": [
    "df.sale_date = df.sale_date.apply(lambda date: date[:-13])"
   ]
  },
  {
   "cell_type": "code",
   "execution_count": 5,
   "id": "07ca10aa",
   "metadata": {},
   "outputs": [],
   "source": [
    "df.sale_date = pd.to_datetime(df.sale_date, format='%a, %d %b %Y')"
   ]
  },
  {
   "cell_type": "markdown",
   "id": "73cd293d",
   "metadata": {},
   "source": [
    "***"
   ]
  },
  {
   "cell_type": "markdown",
   "id": "ff2ba9f8",
   "metadata": {},
   "source": [
    "### 2) Plot the distribution of sale_amount and item_price."
   ]
  },
  {
   "cell_type": "code",
   "execution_count": 6,
   "id": "8bd1a7f7",
   "metadata": {},
   "outputs": [
    {
     "data": {
      "text/plain": [
       "<AxesSubplot:>"
      ]
     },
     "execution_count": 6,
     "metadata": {},
     "output_type": "execute_result"
    },
    {
     "data": {
      "image/png": "[encoded data removed]",
      "text/plain": [
       "<Figure size 432x288 with 1 Axes>"
      ]
     },
     "metadata": {
      "needs_background": "light"
     },
     "output_type": "display_data"
    }
   ],
   "source": [
    "#sale_amount distribution plot\n",
    "df.sale_amount.hist()"
   ]
  },
  {
   "cell_type": "code",
   "execution_count": 7,
   "id": "08eca078",
   "metadata": {},
   "outputs": [
    {
     "data": {
      "text/plain": [
       "<AxesSubplot:>"
      ]
     },
     "execution_count": 7,
     "metadata": {},
     "output_type": "execute_result"
    },
    {
     "data": {
      "image/png": "[encoded data removed]",
      "text/plain": [
       "<Figure size 432x288 with 1 Axes>"
      ]
     },
     "metadata": {
      "needs_background": "light"
     },
     "output_type": "display_data"
    }
   ],
   "source": [
    "#item_price distribution plot\n",
    "df.item_price.hist()"
   ]
  },
  {
   "cell_type": "markdown",
   "id": "78db1ca5",
   "metadata": {},
   "source": [
    "***"
   ]
  },
  {
   "cell_type": "markdown",
   "id": "4d9e3b23",
   "metadata": {},
   "source": [
    "### 3) Set the index to be the datetime variable."
   ]
  },
  {
   "cell_type": "code",
   "execution_count": 8,
   "id": "0fb074e8",
   "metadata": {},
   "outputs": [],
   "source": [
    "df = df.set_index('sale_date').sort_index()"
   ]
  },
  {
   "cell_type": "code",
   "execution_count": 9,
   "id": "3ac02004",
   "metadata": {},
   "outputs": [
    {
     "data": {
      "text/html": [
       "<div>\n",
       "<style scoped>\n",
       "    .dataframe tbody tr th:only-of-type {\n",
       "        vertical-align: middle;\n",
       "    }\n",
       "\n",
       "    .dataframe tbody tr th {\n",
       "        vertical-align: top;\n",
       "    }\n",
       "\n",
       "    .dataframe thead th {\n",
       "        text-align: right;\n",
       "    }\n",
       "</style>\n",
       "<table border=\"1\" class=\"dataframe\">\n",
       "  <thead>\n",
       "    <tr style=\"text-align: right;\">\n",
       "      <th></th>\n",
       "      <th>item</th>\n",
       "      <th>sale_amount</th>\n",
       "      <th>sale_id</th>\n",
       "      <th>store</th>\n",
       "      <th>store_address</th>\n",
       "      <th>store_city</th>\n",
       "      <th>store_id</th>\n",
       "      <th>store_state</th>\n",
       "      <th>store_zipcode</th>\n",
       "      <th>item_brand</th>\n",
       "      <th>item_id</th>\n",
       "      <th>item_name</th>\n",
       "      <th>item_price</th>\n",
       "      <th>item_upc12</th>\n",
       "      <th>item_upc14</th>\n",
       "    </tr>\n",
       "    <tr>\n",
       "      <th>sale_date</th>\n",
       "      <th></th>\n",
       "      <th></th>\n",
       "      <th></th>\n",
       "      <th></th>\n",
       "      <th></th>\n",
       "      <th></th>\n",
       "      <th></th>\n",
       "      <th></th>\n",
       "      <th></th>\n",
       "      <th></th>\n",
       "      <th></th>\n",
       "      <th></th>\n",
       "      <th></th>\n",
       "      <th></th>\n",
       "      <th></th>\n",
       "    </tr>\n",
       "  </thead>\n",
       "  <tbody>\n",
       "    <tr>\n",
       "      <th>2013-01-01</th>\n",
       "      <td>1</td>\n",
       "      <td>13.0</td>\n",
       "      <td>1</td>\n",
       "      <td>1</td>\n",
       "      <td>12125 Alamo Ranch Pkwy</td>\n",
       "      <td>San Antonio</td>\n",
       "      <td>1</td>\n",
       "      <td>TX</td>\n",
       "      <td>78253</td>\n",
       "      <td>Riceland</td>\n",
       "      <td>1</td>\n",
       "      <td>Riceland American Jazmine Rice</td>\n",
       "      <td>0.84</td>\n",
       "      <td>35200264013</td>\n",
       "      <td>35200264013</td>\n",
       "    </tr>\n",
       "    <tr>\n",
       "      <th>2013-01-01</th>\n",
       "      <td>12</td>\n",
       "      <td>26.0</td>\n",
       "      <td>211817</td>\n",
       "      <td>7</td>\n",
       "      <td>12018 Perrin Beitel Rd</td>\n",
       "      <td>San Antonio</td>\n",
       "      <td>7</td>\n",
       "      <td>TX</td>\n",
       "      <td>78217</td>\n",
       "      <td>Mueller</td>\n",
       "      <td>12</td>\n",
       "      <td>Mueller Sport Care Basic Support Level Medium Elastic Knee Support</td>\n",
       "      <td>8.40</td>\n",
       "      <td>74676640211</td>\n",
       "      <td>74676640211</td>\n",
       "    </tr>\n",
       "    <tr>\n",
       "      <th>2013-01-01</th>\n",
       "      <td>46</td>\n",
       "      <td>27.0</td>\n",
       "      <td>832657</td>\n",
       "      <td>7</td>\n",
       "      <td>12018 Perrin Beitel Rd</td>\n",
       "      <td>San Antonio</td>\n",
       "      <td>7</td>\n",
       "      <td>TX</td>\n",
       "      <td>78217</td>\n",
       "      <td>Mama Marys</td>\n",
       "      <td>46</td>\n",
       "      <td>Pizza Sauce</td>\n",
       "      <td>4.65</td>\n",
       "      <td>35457770664</td>\n",
       "      <td>35457770664</td>\n",
       "    </tr>\n",
       "    <tr>\n",
       "      <th>2013-01-01</th>\n",
       "      <td>12</td>\n",
       "      <td>54.0</td>\n",
       "      <td>213643</td>\n",
       "      <td>8</td>\n",
       "      <td>15000 San Pedro Ave</td>\n",
       "      <td>San Antonio</td>\n",
       "      <td>8</td>\n",
       "      <td>TX</td>\n",
       "      <td>78232</td>\n",
       "      <td>Mueller</td>\n",
       "      <td>12</td>\n",
       "      <td>Mueller Sport Care Basic Support Level Medium Elastic Knee Support</td>\n",
       "      <td>8.40</td>\n",
       "      <td>74676640211</td>\n",
       "      <td>74676640211</td>\n",
       "    </tr>\n",
       "    <tr>\n",
       "      <th>2013-01-01</th>\n",
       "      <td>12</td>\n",
       "      <td>35.0</td>\n",
       "      <td>215469</td>\n",
       "      <td>9</td>\n",
       "      <td>735 SW Military Dr</td>\n",
       "      <td>San Antonio</td>\n",
       "      <td>9</td>\n",
       "      <td>TX</td>\n",
       "      <td>78221</td>\n",
       "      <td>Mueller</td>\n",
       "      <td>12</td>\n",
       "      <td>Mueller Sport Care Basic Support Level Medium Elastic Knee Support</td>\n",
       "      <td>8.40</td>\n",
       "      <td>74676640211</td>\n",
       "      <td>74676640211</td>\n",
       "    </tr>\n",
       "  </tbody>\n",
       "</table>\n",
       "</div>"
      ],
      "text/plain": [
       "            item  sale_amount  sale_id  store           store_address  \\\n",
       "sale_date                                                               \n",
       "2013-01-01     1         13.0        1      1  12125 Alamo Ranch Pkwy   \n",
       "2013-01-01    12         26.0   211817      7  12018 Perrin Beitel Rd   \n",
       "2013-01-01    46         27.0   832657      7  12018 Perrin Beitel Rd   \n",
       "2013-01-01    12         54.0   213643      8     15000 San Pedro Ave   \n",
       "2013-01-01    12         35.0   215469      9      735 SW Military Dr   \n",
       "\n",
       "             store_city  store_id store_state  store_zipcode  item_brand  \\\n",
       "sale_date                                                                  \n",
       "2013-01-01  San Antonio         1          TX          78253    Riceland   \n",
       "2013-01-01  San Antonio         7          TX          78217     Mueller   \n",
       "2013-01-01  San Antonio         7          TX          78217  Mama Marys   \n",
       "2013-01-01  San Antonio         8          TX          78232     Mueller   \n",
       "2013-01-01  San Antonio         9          TX          78221     Mueller   \n",
       "\n",
       "            item_id  \\\n",
       "sale_date             \n",
       "2013-01-01        1   \n",
       "2013-01-01       12   \n",
       "2013-01-01       46   \n",
       "2013-01-01       12   \n",
       "2013-01-01       12   \n",
       "\n",
       "                                                                     item_name  \\\n",
       "sale_date                                                                        \n",
       "2013-01-01                                      Riceland American Jazmine Rice   \n",
       "2013-01-01  Mueller Sport Care Basic Support Level Medium Elastic Knee Support   \n",
       "2013-01-01                                                         Pizza Sauce   \n",
       "2013-01-01  Mueller Sport Care Basic Support Level Medium Elastic Knee Support   \n",
       "2013-01-01  Mueller Sport Care Basic Support Level Medium Elastic Knee Support   \n",
       "\n",
       "            item_price   item_upc12   item_upc14  \n",
       "sale_date                                         \n",
       "2013-01-01        0.84  35200264013  35200264013  \n",
       "2013-01-01        8.40  74676640211  74676640211  \n",
       "2013-01-01        4.65  35457770664  35457770664  \n",
       "2013-01-01        8.40  74676640211  74676640211  \n",
       "2013-01-01        8.40  74676640211  74676640211  "
      ]
     },
     "execution_count": 9,
     "metadata": {},
     "output_type": "execute_result"
    }
   ],
   "source": [
    "df.head()"
   ]
  },
  {
   "cell_type": "markdown",
   "id": "024c62ef",
   "metadata": {},
   "source": [
    "***"
   ]
  },
  {
   "cell_type": "markdown",
   "id": "c9eb5fd1",
   "metadata": {},
   "source": [
    "### 4) Add a 'month' and 'day of week' column to your dataframe."
   ]
  },
  {
   "cell_type": "code",
   "execution_count": 10,
   "id": "0629ebaa",
   "metadata": {},
   "outputs": [],
   "source": [
    "df['month'] = df.index.strftime('%m-%b')"
   ]
  },
  {
   "cell_type": "code",
   "execution_count": 12,
   "id": "0d6e4eec",
   "metadata": {},
   "outputs": [],
   "source": [
    "df['day_of_week'] = df.index.strftime('%w-%a')"
   ]
  },
  {
   "cell_type": "code",
   "execution_count": 13,
   "id": "1840ec5c",
   "metadata": {},
   "outputs": [
    {
     "data": {
      "text/html": [
       "<div>\n",
       "<style scoped>\n",
       "    .dataframe tbody tr th:only-of-type {\n",
       "        vertical-align: middle;\n",
       "    }\n",
       "\n",
       "    .dataframe tbody tr th {\n",
       "        vertical-align: top;\n",
       "    }\n",
       "\n",
       "    .dataframe thead th {\n",
       "        text-align: right;\n",
       "    }\n",
       "</style>\n",
       "<table border=\"1\" class=\"dataframe\">\n",
       "  <thead>\n",
       "    <tr style=\"text-align: right;\">\n",
       "      <th></th>\n",
       "      <th>item</th>\n",
       "      <th>sale_amount</th>\n",
       "      <th>sale_id</th>\n",
       "      <th>store</th>\n",
       "      <th>store_address</th>\n",
       "      <th>store_city</th>\n",
       "      <th>store_id</th>\n",
       "      <th>store_state</th>\n",
       "      <th>store_zipcode</th>\n",
       "      <th>item_brand</th>\n",
       "      <th>item_id</th>\n",
       "      <th>item_name</th>\n",
       "      <th>item_price</th>\n",
       "      <th>item_upc12</th>\n",
       "      <th>item_upc14</th>\n",
       "      <th>month</th>\n",
       "      <th>day_of_week</th>\n",
       "    </tr>\n",
       "    <tr>\n",
       "      <th>sale_date</th>\n",
       "      <th></th>\n",
       "      <th></th>\n",
       "      <th></th>\n",
       "      <th></th>\n",
       "      <th></th>\n",
       "      <th></th>\n",
       "      <th></th>\n",
       "      <th></th>\n",
       "      <th></th>\n",
       "      <th></th>\n",
       "      <th></th>\n",
       "      <th></th>\n",
       "      <th></th>\n",
       "      <th></th>\n",
       "      <th></th>\n",
       "      <th></th>\n",
       "      <th></th>\n",
       "    </tr>\n",
       "  </thead>\n",
       "  <tbody>\n",
       "    <tr>\n",
       "      <th>2013-01-01</th>\n",
       "      <td>1</td>\n",
       "      <td>13.0</td>\n",
       "      <td>1</td>\n",
       "      <td>1</td>\n",
       "      <td>12125 Alamo Ranch Pkwy</td>\n",
       "      <td>San Antonio</td>\n",
       "      <td>1</td>\n",
       "      <td>TX</td>\n",
       "      <td>78253</td>\n",
       "      <td>Riceland</td>\n",
       "      <td>1</td>\n",
       "      <td>Riceland American Jazmine Rice</td>\n",
       "      <td>0.84</td>\n",
       "      <td>35200264013</td>\n",
       "      <td>35200264013</td>\n",
       "      <td>01-Jan</td>\n",
       "      <td>2-Tue</td>\n",
       "    </tr>\n",
       "    <tr>\n",
       "      <th>2013-01-01</th>\n",
       "      <td>12</td>\n",
       "      <td>26.0</td>\n",
       "      <td>211817</td>\n",
       "      <td>7</td>\n",
       "      <td>12018 Perrin Beitel Rd</td>\n",
       "      <td>San Antonio</td>\n",
       "      <td>7</td>\n",
       "      <td>TX</td>\n",
       "      <td>78217</td>\n",
       "      <td>Mueller</td>\n",
       "      <td>12</td>\n",
       "      <td>Mueller Sport Care Basic Support Level Medium Elastic Knee Support</td>\n",
       "      <td>8.40</td>\n",
       "      <td>74676640211</td>\n",
       "      <td>74676640211</td>\n",
       "      <td>01-Jan</td>\n",
       "      <td>2-Tue</td>\n",
       "    </tr>\n",
       "    <tr>\n",
       "      <th>2013-01-01</th>\n",
       "      <td>46</td>\n",
       "      <td>27.0</td>\n",
       "      <td>832657</td>\n",
       "      <td>7</td>\n",
       "      <td>12018 Perrin Beitel Rd</td>\n",
       "      <td>San Antonio</td>\n",
       "      <td>7</td>\n",
       "      <td>TX</td>\n",
       "      <td>78217</td>\n",
       "      <td>Mama Marys</td>\n",
       "      <td>46</td>\n",
       "      <td>Pizza Sauce</td>\n",
       "      <td>4.65</td>\n",
       "      <td>35457770664</td>\n",
       "      <td>35457770664</td>\n",
       "      <td>01-Jan</td>\n",
       "      <td>2-Tue</td>\n",
       "    </tr>\n",
       "    <tr>\n",
       "      <th>2013-01-01</th>\n",
       "      <td>12</td>\n",
       "      <td>54.0</td>\n",
       "      <td>213643</td>\n",
       "      <td>8</td>\n",
       "      <td>15000 San Pedro Ave</td>\n",
       "      <td>San Antonio</td>\n",
       "      <td>8</td>\n",
       "      <td>TX</td>\n",
       "      <td>78232</td>\n",
       "      <td>Mueller</td>\n",
       "      <td>12</td>\n",
       "      <td>Mueller Sport Care Basic Support Level Medium Elastic Knee Support</td>\n",
       "      <td>8.40</td>\n",
       "      <td>74676640211</td>\n",
       "      <td>74676640211</td>\n",
       "      <td>01-Jan</td>\n",
       "      <td>2-Tue</td>\n",
       "    </tr>\n",
       "    <tr>\n",
       "      <th>2013-01-01</th>\n",
       "      <td>12</td>\n",
       "      <td>35.0</td>\n",
       "      <td>215469</td>\n",
       "      <td>9</td>\n",
       "      <td>735 SW Military Dr</td>\n",
       "      <td>San Antonio</td>\n",
       "      <td>9</td>\n",
       "      <td>TX</td>\n",
       "      <td>78221</td>\n",
       "      <td>Mueller</td>\n",
       "      <td>12</td>\n",
       "      <td>Mueller Sport Care Basic Support Level Medium Elastic Knee Support</td>\n",
       "      <td>8.40</td>\n",
       "      <td>74676640211</td>\n",
       "      <td>74676640211</td>\n",
       "      <td>01-Jan</td>\n",
       "      <td>2-Tue</td>\n",
       "    </tr>\n",
       "  </tbody>\n",
       "</table>\n",
       "</div>"
      ],
      "text/plain": [
       "            item  sale_amount  sale_id  store           store_address  \\\n",
       "sale_date                                                               \n",
       "2013-01-01     1         13.0        1      1  12125 Alamo Ranch Pkwy   \n",
       "2013-01-01    12         26.0   211817      7  12018 Perrin Beitel Rd   \n",
       "2013-01-01    46         27.0   832657      7  12018 Perrin Beitel Rd   \n",
       "2013-01-01    12         54.0   213643      8     15000 San Pedro Ave   \n",
       "2013-01-01    12         35.0   215469      9      735 SW Military Dr   \n",
       "\n",
       "             store_city  store_id store_state  store_zipcode  item_brand  \\\n",
       "sale_date                                                                  \n",
       "2013-01-01  San Antonio         1          TX          78253    Riceland   \n",
       "2013-01-01  San Antonio         7          TX          78217     Mueller   \n",
       "2013-01-01  San Antonio         7          TX          78217  Mama Marys   \n",
       "2013-01-01  San Antonio         8          TX          78232     Mueller   \n",
       "2013-01-01  San Antonio         9          TX          78221     Mueller   \n",
       "\n",
       "            item_id  \\\n",
       "sale_date             \n",
       "2013-01-01        1   \n",
       "2013-01-01       12   \n",
       "2013-01-01       46   \n",
       "2013-01-01       12   \n",
       "2013-01-01       12   \n",
       "\n",
       "                                                                     item_name  \\\n",
       "sale_date                                                                        \n",
       "2013-01-01                                      Riceland American Jazmine Rice   \n",
       "2013-01-01  Mueller Sport Care Basic Support Level Medium Elastic Knee Support   \n",
       "2013-01-01                                                         Pizza Sauce   \n",
       "2013-01-01  Mueller Sport Care Basic Support Level Medium Elastic Knee Support   \n",
       "2013-01-01  Mueller Sport Care Basic Support Level Medium Elastic Knee Support   \n",
       "\n",
       "            item_price   item_upc12   item_upc14   month day_of_week  \n",
       "sale_date                                                             \n",
       "2013-01-01        0.84  35200264013  35200264013  01-Jan       2-Tue  \n",
       "2013-01-01        8.40  74676640211  74676640211  01-Jan       2-Tue  \n",
       "2013-01-01        4.65  35457770664  35457770664  01-Jan       2-Tue  \n",
       "2013-01-01        8.40  74676640211  74676640211  01-Jan       2-Tue  \n",
       "2013-01-01        8.40  74676640211  74676640211  01-Jan       2-Tue  "
      ]
     },
     "execution_count": 13,
     "metadata": {},
     "output_type": "execute_result"
    }
   ],
   "source": [
    "df.head()"
   ]
  },
  {
   "cell_type": "markdown",
   "id": "083c727b",
   "metadata": {},
   "source": [
    "***"
   ]
  },
  {
   "cell_type": "markdown",
   "id": "5b6220ad",
   "metadata": {},
   "source": [
    "### 5) Add a column to your dataframe, sales_total, which is a derived from sale_amount (total items) and item_price."
   ]
  },
  {
   "cell_type": "code",
   "execution_count": 14,
   "id": "f4f01467",
   "metadata": {},
   "outputs": [],
   "source": [
    "df['sales_total'] = df.sale_amount * df.item_price"
   ]
  },
  {
   "cell_type": "code",
   "execution_count": 15,
   "id": "1fca3cc1",
   "metadata": {},
   "outputs": [
    {
     "data": {
      "text/html": [
       "<div>\n",
       "<style scoped>\n",
       "    .dataframe tbody tr th:only-of-type {\n",
       "        vertical-align: middle;\n",
       "    }\n",
       "\n",
       "    .dataframe tbody tr th {\n",
       "        vertical-align: top;\n",
       "    }\n",
       "\n",
       "    .dataframe thead th {\n",
       "        text-align: right;\n",
       "    }\n",
       "</style>\n",
       "<table border=\"1\" class=\"dataframe\">\n",
       "  <thead>\n",
       "    <tr style=\"text-align: right;\">\n",
       "      <th></th>\n",
       "      <th>item</th>\n",
       "      <th>sale_amount</th>\n",
       "      <th>sale_id</th>\n",
       "      <th>store</th>\n",
       "      <th>store_address</th>\n",
       "      <th>store_city</th>\n",
       "      <th>store_id</th>\n",
       "      <th>store_state</th>\n",
       "      <th>store_zipcode</th>\n",
       "      <th>item_brand</th>\n",
       "      <th>item_id</th>\n",
       "      <th>item_name</th>\n",
       "      <th>item_price</th>\n",
       "      <th>item_upc12</th>\n",
       "      <th>item_upc14</th>\n",
       "      <th>month</th>\n",
       "      <th>day_of_week</th>\n",
       "      <th>sales_total</th>\n",
       "    </tr>\n",
       "    <tr>\n",
       "      <th>sale_date</th>\n",
       "      <th></th>\n",
       "      <th></th>\n",
       "      <th></th>\n",
       "      <th></th>\n",
       "      <th></th>\n",
       "      <th></th>\n",
       "      <th></th>\n",
       "      <th></th>\n",
       "      <th></th>\n",
       "      <th></th>\n",
       "      <th></th>\n",
       "      <th></th>\n",
       "      <th></th>\n",
       "      <th></th>\n",
       "      <th></th>\n",
       "      <th></th>\n",
       "      <th></th>\n",
       "      <th></th>\n",
       "    </tr>\n",
       "  </thead>\n",
       "  <tbody>\n",
       "    <tr>\n",
       "      <th>2013-01-01</th>\n",
       "      <td>1</td>\n",
       "      <td>13.0</td>\n",
       "      <td>1</td>\n",
       "      <td>1</td>\n",
       "      <td>12125 Alamo Ranch Pkwy</td>\n",
       "      <td>San Antonio</td>\n",
       "      <td>1</td>\n",
       "      <td>TX</td>\n",
       "      <td>78253</td>\n",
       "      <td>Riceland</td>\n",
       "      <td>1</td>\n",
       "      <td>Riceland American Jazmine Rice</td>\n",
       "      <td>0.84</td>\n",
       "      <td>35200264013</td>\n",
       "      <td>35200264013</td>\n",
       "      <td>01-Jan</td>\n",
       "      <td>2-Tue</td>\n",
       "      <td>10.92</td>\n",
       "    </tr>\n",
       "  </tbody>\n",
       "</table>\n",
       "</div>"
      ],
      "text/plain": [
       "            item  sale_amount  sale_id  store           store_address  \\\n",
       "sale_date                                                               \n",
       "2013-01-01     1         13.0        1      1  12125 Alamo Ranch Pkwy   \n",
       "\n",
       "             store_city  store_id store_state  store_zipcode item_brand  \\\n",
       "sale_date                                                                 \n",
       "2013-01-01  San Antonio         1          TX          78253   Riceland   \n",
       "\n",
       "            item_id                       item_name  item_price   item_upc12  \\\n",
       "sale_date                                                                      \n",
       "2013-01-01        1  Riceland American Jazmine Rice        0.84  35200264013   \n",
       "\n",
       "             item_upc14   month day_of_week  sales_total  \n",
       "sale_date                                                 \n",
       "2013-01-01  35200264013  01-Jan       2-Tue        10.92  "
      ]
     },
     "execution_count": 15,
     "metadata": {},
     "output_type": "execute_result"
    }
   ],
   "source": [
    "df.head(1)"
   ]
  },
  {
   "cell_type": "markdown",
   "id": "e2011340",
   "metadata": {},
   "source": [
    "***"
   ]
  },
  {
   "cell_type": "markdown",
   "id": "564bfd42",
   "metadata": {},
   "source": [
    "### 6) Make sure all the work that you have done above is reproducible. That is, you should put the code above into separate functions and be able to re-run the functions and get the same results."
   ]
  },
  {
   "cell_type": "code",
   "execution_count": 16,
   "id": "03bc2861",
   "metadata": {},
   "outputs": [],
   "source": [
    "def prep_store_data(df):\n",
    "    df.sale_date = df.sale_date.apply(lambda date: date[:-13])\n",
    "    df.sale_date = pd.to_datetime(df.sale_date, format='%a, %d %b %Y')\n",
    "    # make sure we sort by date/time before resampling or doing other time series manipulations\n",
    "    df = df.set_index('sale_date').sort_index()\n",
    "    df['month'] = df.index.strftime('%m-%b')\n",
    "    df['day_of_week'] = df.index.strftime('%w-%a')\n",
    "    df['sales_total'] = df.sale_amount * df.item_price\n",
    "    return df"
   ]
  },
  {
   "cell_type": "markdown",
   "id": "5956120a",
   "metadata": {},
   "source": [
    "***"
   ]
  },
  {
   "cell_type": "markdown",
   "id": "d209b907",
   "metadata": {},
   "source": [
    "Using the OPS data acquired in the Acquire exercises opsd_germany_daily.csv, complete the following:\n",
    "\n",
    "1) Convert date column to datetime format.\n",
    "\n",
    "2) Plot the distribution of each of your variables.\n",
    "\n",
    "3) Set the index to be the datetime variable.\n",
    "\n",
    "4) Add a month and a year column to your dataframe.\n",
    "\n",
    "5) Fill any missing values.\n",
    "\n",
    "6) Make sure all the work that you have done above is reproducible. That is, you should put the code above into separate functions and be able to re-run the functions and get the same results.\n"
   ]
  },
  {
   "cell_type": "code",
   "execution_count": 17,
   "id": "f36378cb",
   "metadata": {},
   "outputs": [],
   "source": [
    "gdf = acquire.get_opsd_german_data()"
   ]
  },
  {
   "cell_type": "markdown",
   "id": "bdb95fcd",
   "metadata": {},
   "source": [
    "- renaming columnto use call it easier "
   ]
  },
  {
   "cell_type": "code",
   "execution_count": 23,
   "id": "f15afffa",
   "metadata": {},
   "outputs": [],
   "source": [
    "gdf.columns = ['Date', 'Consumption', 'Wind', 'Solar', 'Wind_Solar']"
   ]
  },
  {
   "cell_type": "markdown",
   "id": "51be9b3a",
   "metadata": {},
   "source": [
    "***"
   ]
  },
  {
   "cell_type": "markdown",
   "id": "cf8ac902",
   "metadata": {},
   "source": [
    "### 1) Convert date column to datetime format."
   ]
  },
  {
   "cell_type": "code",
   "execution_count": 26,
   "id": "9f8cccd1",
   "metadata": {},
   "outputs": [],
   "source": [
    "gdf.Date = pd.to_datetime(gdf.Date)"
   ]
  },
  {
   "cell_type": "markdown",
   "id": "56f655ce",
   "metadata": {},
   "source": [
    "***"
   ]
  },
  {
   "cell_type": "markdown",
   "id": "73b26dcc",
   "metadata": {},
   "source": [
    "### 2) Plot the distribution of each of your variables."
   ]
  },
  {
   "cell_type": "code",
   "execution_count": 29,
   "id": "7b2ea9ae",
   "metadata": {},
   "outputs": [
    {
     "data": {
      "text/plain": [
       "array([[<AxesSubplot:title={'center':'Date'}>,\n",
       "        <AxesSubplot:title={'center':'Consumption'}>],\n",
       "       [<AxesSubplot:title={'center':'Wind'}>,\n",
       "        <AxesSubplot:title={'center':'Solar'}>],\n",
       "       [<AxesSubplot:title={'center':'Wind_Solar'}>, <AxesSubplot:>]],\n",
       "      dtype=object)"
      ]
     },
     "execution_count": 29,
     "metadata": {},
     "output_type": "execute_result"
    },
    {
     "data": {
      "image/png": "[encoded data removed]",
      "text/plain": [
       "<Figure size 432x288 with 6 Axes>"
      ]
     },
     "metadata": {
      "needs_background": "light"
     },
     "output_type": "display_data"
    }
   ],
   "source": [
    "gdf.hist()"
   ]
  },
  {
   "cell_type": "markdown",
   "id": "8a7a1420",
   "metadata": {},
   "source": [
    "***"
   ]
  },
  {
   "cell_type": "markdown",
   "id": "c6163aa0",
   "metadata": {},
   "source": [
    "### 3) Set the index to be the datetime variable."
   ]
  },
  {
   "cell_type": "code",
   "execution_count": 31,
   "id": "fb3547f2",
   "metadata": {},
   "outputs": [],
   "source": [
    "gdf = gdf.set_index('Date').sort_index()"
   ]
  },
  {
   "cell_type": "markdown",
   "id": "f5ba901f",
   "metadata": {},
   "source": [
    "***"
   ]
  },
  {
   "cell_type": "markdown",
   "id": "371a38c8",
   "metadata": {},
   "source": [
    "### 4) Add a month and a year column to your dataframe."
   ]
  },
  {
   "cell_type": "code",
   "execution_count": 32,
   "id": "1b13a11c",
   "metadata": {},
   "outputs": [],
   "source": [
    "gdf['month'] = gdf.index.strftime('%m-%b')\n",
    "gdf['year'] = gdf.index.year"
   ]
  },
  {
   "cell_type": "code",
   "execution_count": 33,
   "id": "8b140626",
   "metadata": {},
   "outputs": [
    {
     "data": {
      "text/html": [
       "<div>\n",
       "<style scoped>\n",
       "    .dataframe tbody tr th:only-of-type {\n",
       "        vertical-align: middle;\n",
       "    }\n",
       "\n",
       "    .dataframe tbody tr th {\n",
       "        vertical-align: top;\n",
       "    }\n",
       "\n",
       "    .dataframe thead th {\n",
       "        text-align: right;\n",
       "    }\n",
       "</style>\n",
       "<table border=\"1\" class=\"dataframe\">\n",
       "  <thead>\n",
       "    <tr style=\"text-align: right;\">\n",
       "      <th></th>\n",
       "      <th>Consumption</th>\n",
       "      <th>Wind</th>\n",
       "      <th>Solar</th>\n",
       "      <th>Wind_Solar</th>\n",
       "      <th>month</th>\n",
       "      <th>year</th>\n",
       "    </tr>\n",
       "    <tr>\n",
       "      <th>Date</th>\n",
       "      <th></th>\n",
       "      <th></th>\n",
       "      <th></th>\n",
       "      <th></th>\n",
       "      <th></th>\n",
       "      <th></th>\n",
       "    </tr>\n",
       "  </thead>\n",
       "  <tbody>\n",
       "    <tr>\n",
       "      <th>2006-01-01</th>\n",
       "      <td>1069.184</td>\n",
       "      <td>NaN</td>\n",
       "      <td>NaN</td>\n",
       "      <td>NaN</td>\n",
       "      <td>01-Jan</td>\n",
       "      <td>2006</td>\n",
       "    </tr>\n",
       "  </tbody>\n",
       "</table>\n",
       "</div>"
      ],
      "text/plain": [
       "            Consumption  Wind  Solar  Wind_Solar   month  year\n",
       "Date                                                          \n",
       "2006-01-01     1069.184   NaN    NaN         NaN  01-Jan  2006"
      ]
     },
     "execution_count": 33,
     "metadata": {},
     "output_type": "execute_result"
    }
   ],
   "source": [
    "gdf.head(1)"
   ]
  },
  {
   "cell_type": "markdown",
   "id": "fb1d9d8d",
   "metadata": {},
   "source": [
    "***"
   ]
  },
  {
   "cell_type": "markdown",
   "id": "32420be5",
   "metadata": {},
   "source": [
    "### 5) Fill any missing values."
   ]
  },
  {
   "cell_type": "code",
   "execution_count": 35,
   "id": "c335d224",
   "metadata": {},
   "outputs": [],
   "source": [
    "gdf = gdf.fillna(0)\n",
    "gdf['wind_solar'] = gdf.Wind + gdf.Solar"
   ]
  },
  {
   "cell_type": "code",
   "execution_count": 37,
   "id": "4916267e",
   "metadata": {},
   "outputs": [
    {
     "data": {
      "text/html": [
       "<div>\n",
       "<style scoped>\n",
       "    .dataframe tbody tr th:only-of-type {\n",
       "        vertical-align: middle;\n",
       "    }\n",
       "\n",
       "    .dataframe tbody tr th {\n",
       "        vertical-align: top;\n",
       "    }\n",
       "\n",
       "    .dataframe thead th {\n",
       "        text-align: right;\n",
       "    }\n",
       "</style>\n",
       "<table border=\"1\" class=\"dataframe\">\n",
       "  <thead>\n",
       "    <tr style=\"text-align: right;\">\n",
       "      <th></th>\n",
       "      <th>Consumption</th>\n",
       "      <th>Wind</th>\n",
       "      <th>Solar</th>\n",
       "      <th>Wind_Solar</th>\n",
       "      <th>month</th>\n",
       "      <th>year</th>\n",
       "      <th>wind_solar</th>\n",
       "    </tr>\n",
       "    <tr>\n",
       "      <th>Date</th>\n",
       "      <th></th>\n",
       "      <th></th>\n",
       "      <th></th>\n",
       "      <th></th>\n",
       "      <th></th>\n",
       "      <th></th>\n",
       "      <th></th>\n",
       "    </tr>\n",
       "  </thead>\n",
       "  <tbody>\n",
       "    <tr>\n",
       "      <th>2006-01-01</th>\n",
       "      <td>1069.184</td>\n",
       "      <td>0.0</td>\n",
       "      <td>0.0</td>\n",
       "      <td>0.0</td>\n",
       "      <td>01-Jan</td>\n",
       "      <td>2006</td>\n",
       "      <td>0.0</td>\n",
       "    </tr>\n",
       "  </tbody>\n",
       "</table>\n",
       "</div>"
      ],
      "text/plain": [
       "            Consumption  Wind  Solar  Wind_Solar   month  year  wind_solar\n",
       "Date                                                                      \n",
       "2006-01-01     1069.184   0.0    0.0         0.0  01-Jan  2006         0.0"
      ]
     },
     "execution_count": 37,
     "metadata": {},
     "output_type": "execute_result"
    }
   ],
   "source": [
    "gdf.head(1)"
   ]
  },
  {
   "cell_type": "markdown",
   "id": "d1848c21",
   "metadata": {},
   "source": [
    "***"
   ]
  },
  {
   "cell_type": "markdown",
   "id": "e0959d90",
   "metadata": {},
   "source": [
    "### 6) Make sure all the work that you have done above is reproducible. That is, you should put the code above into separate functions and be able to re-run the functions and get the same results."
   ]
  },
  {
   "cell_type": "code",
   "execution_count": null,
   "id": "42488192",
   "metadata": {},
   "outputs": [],
   "source": [
    "# setting as df because we wont have two different data sets in the future runnning in the same notebook\n",
    "def prep_opsd_data(df):\n",
    "    #renaming models\n",
    "    df.columns = ['date', 'consumption', 'wind', 'solar', 'wind_solar']\n",
    "    df.date = pd.to_datetime(df.date)\n",
    "    df = df.set_index('date').sort_index()\n",
    "    df['month'] = df.index.strftime('%m-%b')\n",
    "    df['year'] = df.index.year\n",
    "    df = df.fillna(0)\n",
    "    df['wind_solar'] = df.wind + df.solar\n",
    "    return df"
   ]
  }
 ],
 "metadata": {
  "kernelspec": {
   "display_name": "Python 3 (ipykernel)",
   "language": "python",
   "name": "python3"
  },
  "language_info": {
   "codemirror_mode": {
    "name": "ipython",
    "version": 3
   },
   "file_extension": ".py",
   "mimetype": "text/x-python",
   "name": "python",
   "nbconvert_exporter": "python",
   "pygments_lexer": "ipython3",
   "version": "3.9.7"
  }
 },
 "nbformat": 4,
 "nbformat_minor": 5
}
